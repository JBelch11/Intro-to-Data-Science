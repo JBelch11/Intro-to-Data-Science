{
 "cells": [
  {
   "cell_type": "markdown",
   "id": "cdd14cf9",
   "metadata": {},
   "source": [
    "# Data Science Tools and Ecosystem"
   ]
  },
  {
   "cell_type": "markdown",
   "id": "fb99a929",
   "metadata": {},
   "source": [
    "__Objectives__:\n",
    "\n",
    "- List Popular Languages for Data Science\n",
    "- Common Libraries for Data Science\n",
    "- Examples of Arithmetic expression"
   ]
  },
  {
   "cell_type": "markdown",
   "id": "dddd9034",
   "metadata": {},
   "source": [
    "In this notebook, Data Science Tools and Ecosystems are summarized."
   ]
  },
  {
   "cell_type": "markdown",
   "id": "2cf795be",
   "metadata": {},
   "source": [
    "Some of the popular languages that Data Scientists use are:\n",
    "\n",
    "1. Python\n",
    "2. R\n",
    "3. Julia"
   ]
  },
  {
   "cell_type": "markdown",
   "id": "06a682db",
   "metadata": {},
   "source": [
    "Some of the most commonly used libraries used by Data Scientists include:\n",
    "\n",
    "1. Numpy\n",
    "2. Pandas\n",
    "3. Matplotlib\n"
   ]
  },
  {
   "cell_type": "markdown",
   "id": "642e4e22",
   "metadata": {},
   "source": [
    "| Data Science Tools |\n",
    "| ------|\n",
    "| Jupyter Notebook |\n",
    "| Spark|\n",
    "| TensorFlow|"
   ]
  },
  {
   "cell_type": "markdown",
   "id": "42e8e269",
   "metadata": {},
   "source": [
    "### Below are a few examples of arithmetic expressions in Python. "
   ]
  },
  {
   "cell_type": "code",
   "execution_count": 4,
   "id": "8696de88",
   "metadata": {},
   "outputs": [
    {
     "data": {
      "text/plain": [
       "17"
      ]
     },
     "execution_count": 4,
     "metadata": {},
     "output_type": "execute_result"
    }
   ],
   "source": [
    "#This is a simple arithmetic expression to multiply then add integers\n",
    "\n",
    "(3*4)+5"
   ]
  },
  {
   "cell_type": "code",
   "execution_count": 6,
   "id": "22bebbed",
   "metadata": {},
   "outputs": [
    {
     "data": {
      "text/plain": [
       "3.3333333333333335"
      ]
     },
     "execution_count": 6,
     "metadata": {},
     "output_type": "execute_result"
    }
   ],
   "source": [
    "# This will convert 200 minutes to hours dividing by 60.\n",
    "\n",
    "200/60"
   ]
  },
  {
   "cell_type": "markdown",
   "id": "d1f0fb02",
   "metadata": {},
   "source": [
    "## Author\n",
    "\n",
    "Jeremy Belcher"
   ]
  },
  {
   "cell_type": "code",
   "execution_count": null,
   "id": "2ef4bdb8",
   "metadata": {},
   "outputs": [],
   "source": []
  }
 ],
 "metadata": {
  "kernelspec": {
   "display_name": "Python 3 (ipykernel)",
   "language": "python",
   "name": "python3"
  },
  "language_info": {
   "codemirror_mode": {
    "name": "ipython",
    "version": 3
   },
   "file_extension": ".py",
   "mimetype": "text/x-python",
   "name": "python",
   "nbconvert_exporter": "python",
   "pygments_lexer": "ipython3",
   "version": "3.9.18"
  }
 },
 "nbformat": 4,
 "nbformat_minor": 5
}
